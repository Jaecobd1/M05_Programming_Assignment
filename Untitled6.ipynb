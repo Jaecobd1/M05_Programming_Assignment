{
 "cells": [
  {
   "cell_type": "code",
   "execution_count": 1,
   "id": "ee27ad51-d2dd-41c9-9731-37870f286e33",
   "metadata": {},
   "outputs": [
    {
     "name": "stdout",
     "output_type": "stream",
     "text": [
      "Vanilla passed the test\n"
     ]
    }
   ],
   "source": [
    "def test_1():\n",
    "    assert icecream == \"Vanilla\"\n",
    "\n",
    "if __name__ == \"__main__\":\n",
    "    icecream = \"Vanilla\"\n",
    "    test_1()\n",
    "    print(f'{icecream} passed the test')\n",
    "    "
   ]
  },
  {
   "cell_type": "code",
   "execution_count": null,
   "id": "bb6790a5-cd1c-4aa6-9ebf-0f8e8517d266",
   "metadata": {},
   "outputs": [],
   "source": [
    "# The test results mean that the variable \n",
    "#icecream is equal to the string Vanilla.\n",
    "#It then prints out the the variable icecream within\n",
    "#a string."
   ]
  }
 ],
 "metadata": {
  "kernelspec": {
   "display_name": "Python 3 (ipykernel)",
   "language": "python",
   "name": "python3"
  },
  "language_info": {
   "codemirror_mode": {
    "name": "ipython",
    "version": 3
   },
   "file_extension": ".py",
   "mimetype": "text/x-python",
   "name": "python",
   "nbconvert_exporter": "python",
   "pygments_lexer": "ipython3",
   "version": "3.9.12"
  }
 },
 "nbformat": 4,
 "nbformat_minor": 5
}
